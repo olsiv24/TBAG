{
  "cells": [
    {
      "cell_type": "markdown",
      "metadata": {
        "id": "0-WCSiYvZ75U"
      },
      "source": [
        "#AGENDA\n",
        "01 Recap the project so far\n",
        "\n",
        "02 Understanding Polymorphism\n",
        "\n",
        "03 Hands-on: Aggregate data to generate summary reports\n",
        "\n"
      ]
    },
    {
      "cell_type": "markdown",
      "metadata": {
        "id": "RoAG8_abalgm"
      },
      "source": [
        "# Recap the project so far\n",
        "\n",
        "\n",
        "---\n",
        "\n",
        "\n",
        "\n",
        "**Moving between rooms**\n",
        "We will now add a method that will allow the user to move between rooms.​\n",
        "\n",
        "\n",
        "STEP 1: Go to the room.py file and add a move method to your Room class.\n"
      ]
    },
    {
      "cell_type": "code",
      "execution_count": 1,
      "metadata": {
        "id": "CVjxYPEaJBqE"
      },
      "outputs": [],
      "source": [
        "def move(self, direction):\n",
        "        if direction in self.linked_rooms:\n",
        "            return self.linked_room[direction]\n",
        "    \n",
        "        else:\n",
        "            print(\"You can't go that way\")\n",
        "            return self"
      ]
    },
    {
      "cell_type": "markdown",
      "metadata": {
        "id": "XiXKiPhIa77a"
      },
      "source": [
        "The move method should have a parameter for the direction in which the player would like to move. If the direction is one of the directions linked to, the method returns the room object that is in that direction. If there is no room in the dictionary in that direction, the method returns self; that is, the player is linked back to the room they were already in."
      ]
    },
    {
      "cell_type": "markdown",
      "metadata": {
        "id": "20FOP4S0bACR"
      },
      "source": [
        "STEP 2: Go back to main.py and remove any code still left from your testing of the get_details() method.\n"
      ]
    },
    {
      "cell_type": "code",
      "execution_count": 2,
      "metadata": {
        "id": "przZuF3ubzrS"
      },
      "outputs": [],
      "source": [
        "from room import Room\n",
        "from character import Enemy\n",
        "\n",
        "kitchen = Room(\"Kitchen\")\n",
        "ballroom = Room(\"Ballroom\")\n",
        "dinning_hall = Room(\"Dinning hall\")\n",
        "\n",
        "dave = Enemy(\"Dave\", \"A smelly zombi\")\n",
        "dave.set_conversation(\"Hi I'm Dave and I will bite\")\n",
        "dave.set_weakness(\"cheese\")\n",
        "dinning_hall.set_character(\"dave\")\n",
        "\n",
        "kitchen.set_description(\"A dank and dirty room buzzing with flies\")\n",
        "ballroom.set_description(\"A a vast room with lots of space\")\n",
        "dinning_hall.set_description(\"A large room wih table and chairs...\")\n",
        "\n",
        "kitchen.link_rooms(dinning_hall, \"south\")\n",
        "dinning_hall.link_rooms(kitchen, \"north\")\n",
        "dinning_hall.link_rooms(ballroom, \"west\")\n",
        "ballroom.link_rooms(dinning_hall, \"east\")\n",
        "\n",
        "current_room = kitchen"
      ]
    },
    {
      "cell_type": "markdown",
      "metadata": {
        "id": "OMihVhozbh4A"
      },
      "source": [
        "STEP 3:  In main.py add some code at the bottom of the script to create a loop, letting the player move between rooms."
      ]
    },
    {
      "cell_type": "code",
      "execution_count": null,
      "metadata": {
        "id": "QDKj7bseb0QV"
      },
      "outputs": [],
      "source": [
        "current_room = kitchen\n",
        "while True:\n",
        "      print(\"\\n\")\n",
        "      current_room.get_details()\n",
        "      command = input(\"> \")\n",
        "      current_room = current_room.move(command)"
      ]
    },
    {
      "cell_type": "markdown",
      "metadata": {
        "id": "OcQbmBSmdfrn"
      },
      "source": [
        "Save & Run your program.\n",
        "\n",
        "Type in some directions (e.g. “south”) to move between rooms.."
      ]
    },
    {
      "cell_type": "markdown",
      "metadata": {
        "id": "kL-0VSW1doBo"
      },
      "source": [
        "# Activity: Create an Item class\n",
        "\n",
        "You have successfully created a Room class, complete with a constructor, attributes, getters, and setters. Now you are going to create a class from scratch.​\n",
        "\n",
        "Your task is to create a class to represent an item you might find in the game, such as a sword. ​\n",
        "\n",
        "1. Open a new Python file.​\n",
        "\n",
        "    * Save it as item.py in the same location as your main.py file.​\n",
        "    * Create an Item class.​\n",
        "\n",
        "2. The Item class should have the following:​\n",
        "\n",
        "    * Attributes for the name and the description of the item​\n",
        "    * A constructor method​\n",
        "    * Getters and setters for the name and the description of the item​\n",
        "    * Any additional attributes and methods you would like to add\n",
        "\n",
        "\n",
        "\n",
        " [Solution](https://trinket.io/python/57dceff274)"
      ]
    },
    {
      "cell_type": "code",
      "execution_count": null,
      "metadata": {
        "id": "2A9OWwr4dfNj"
      },
      "outputs": [],
      "source": [
        "class Item():\n",
        "  def __init__(self):\n",
        "    self.name = None\n",
        "    self.description = None\n",
        "\n",
        "  def get_name(self):\n",
        "    return self.name\n",
        "\n",
        "  def set_name(self, item_name):\n",
        "    self.name = item_name\n",
        "\n",
        "  def get_description(self):\n",
        "     return self.description\n",
        "\n",
        "  def set_description(self, item_description):"
      ]
    },
    {
      "cell_type": "markdown",
      "metadata": {
        "id": "1Ysw05XHe9K4"
      },
      "source": [
        "## Extending Classes​\n",
        "Extend a class by adding your own functionality to existing code​\n",
        "\n",
        "Use inheritance and polymorphism in the context of your text-based adventure game to create enemies for the player to encounter\n",
        "\n",
        "Extending a class takes advantage of a concept called inheritance; the new class can be said to inherit properties from its parent class. To extend a class, you can define new attributes or methods, and you can also change the behavior of existing methods.\n",
        "\n",
        "STEP 1: Create a file called character.py and save the following code in to it:"
      ]
    },
    {
      "cell_type": "code",
      "execution_count": null,
      "metadata": {
        "id": "a4RavbD7fGyd"
      },
      "outputs": [],
      "source": [
        "class Character():\n",
        " # Create a character​\n",
        "\n",
        "    def __init__(self, char_name, char_description):\n",
        "        self.name = char_name\n",
        "        self.description = char_description\n",
        "        self.conversation = None\n",
        "\n",
        "    # Describe this character​\n",
        "\n",
        "    def describe(self):\n",
        "\n",
        "        print( self.name + \" is here!\")\n",
        "\n",
        "        print( self.description)\n",
        "\n",
        "    # Set what this character will say when talked to​\n",
        "\n",
        "    def set_conversation(self, conversation):\n",
        "        self.conversation = conversation\n",
        "    # Talk to this character​\n",
        "\n",
        "    def talk(self):\n",
        "       if self.conversation is not None:\n",
        "        print(\"[\" + self.name + \" says]: \" + self.conversation)\n",
        "        else:\n",
        "          print(self.name + \" doesn't want to talk to you\")\n",
        "\n",
        "    # Fight with this character​\n",
        "\n",
        "    def fight(self, combat_item):\n",
        "       print(self.name + \" doesn't want to fight with you\")\n",
        "\n",
        "        return True"
      ]
    },
    {
      "cell_type": "markdown",
      "metadata": {
        "id": "kdcxKEt4gagA"
      },
      "source": [
        "STEP 2: Create a new Python file and save it as character_test.py. Then add the following code to create a new object from the Character class.\n"
      ]
    },
    {
      "cell_type": "code",
      "execution_count": null,
      "metadata": {
        "id": "8gnalcv7gaGW"
      },
      "outputs": [],
      "source": [
        "from character import Character\n",
        "dave = Character(\"Dave\", \"A smelly zombie\")"
      ]
    },
    {
      "cell_type": "markdown",
      "metadata": {
        "id": "z0WFE7O2gixW"
      },
      "source": [
        "STEP 3: Add this code in the character_test.py to call the describe method on the object you created to show the character’s description on the screen."
      ]
    },
    {
      "cell_type": "code",
      "execution_count": null,
      "metadata": {
        "id": "CDYhgJ_Ygl5L"
      },
      "outputs": [],
      "source": [
        "dave.describe()"
      ]
    },
    {
      "cell_type": "markdown",
      "metadata": {
        "id": "wEADzSs-gq61"
      },
      "source": [
        "So far, so good. You can use this code as the basis for your characters. However, not every character in the game will have the same characteristics. Some will be friends and some will be enemies, and friend and enemies should behave differently.\n"
      ]
    },
    {
      "cell_type": "markdown",
      "metadata": {
        "id": "FtET1RKOgv5-"
      },
      "source": [
        "# Activity\n",
        "\n",
        "1. Examine the Character class inside character.py to find the name of the method that sets the conversation attribute.\n",
        "2. Add code to your program to call this method and give Dave a line of dialogue.\n",
        "3. Add code to your program to call a different method that talks to Dave.\n"
      ]
    },
    {
      "cell_type": "markdown",
      "metadata": {
        "id": "ztr2PV4gg6dU"
      },
      "source": [
        "# Activity – Solution\n",
        "\n",
        "The set_conversation method below sets the conversation attribute in the Character class. The Character class contains a talk method that will display a line of dialogue. The talk method includes a conditional statement to identify whether the conversation attribute has been set.\n",
        "\n",
        "If the conversation attribute has been set, \"[\" + self.name + \" says]: \" + self.conversation will be printed. If not, self.name + \" doesn't want to talk to you\" will be printed.\n",
        "\n",
        "Finally, I called the talk method to see my character, Dave, speak.\n"
      ]
    },
    {
      "cell_type": "code",
      "execution_count": null,
      "metadata": {
        "id": "pVAn4laegqfz"
      },
      "outputs": [],
      "source": [
        "dave.set_conversation(\"Hello there! I am going to join your OOP game very soon\")\n",
        "\n",
        "dave.talk()"
      ]
    },
    {
      "cell_type": "markdown",
      "metadata": {
        "id": "j8klKmXEhIR_"
      },
      "source": [
        "Your game will have multiple characters to interact with. For example, I might create two characters: Dave, the smelly zombie, and Catrina, the friendly skeleton. I might want to fight with enemies such as Dave, but I wouldn’t want to fight with friendly characters such as Catrina.\n",
        "\n",
        "Inheritance is one of the key elements of OOP; it allows you to base a new class on an existing one. The new class automatically inherits all the methods and attributes of the existing class, removing the need to include the same methods and attributes in the new class.\n",
        "\n",
        "You will make a subclass of Character called Enemy. It will use the Character class as a basis, but add some more functionality specific to enemies.\n",
        "\n",
        "STEP 1: In the existing character.py file, create a new Enemy class below the Character class.\n",
        "\n"
      ]
    },
    {
      "cell_type": "code",
      "execution_count": null,
      "metadata": {
        "id": "Fnl4HlO7hUyH"
      },
      "outputs": [],
      "source": [
        "class Enemy(Character):\n",
        "    def __init__(self, char_name, char_description):"
      ]
    },
    {
      "cell_type": "markdown",
      "metadata": {
        "id": "oLyURK5shSFA"
      },
      "source": [
        "The name of this new class is Enemy. Putting Character inside the brackets tells Python that the Enemy class will inherit all of the methods from Character.\n",
        "\n",
        "Character is called the superclass of Enemy, and Enemy is a subclass of Character.\n",
        "\n",
        "The constructor for an enemy object; this looks identical to the constructor of Character.\n",
        "\n",
        "\n",
        "\n",
        "STEP 2: Character is the superclass of Enemy, so you need to ensure that Enemy inherits from Character. To do this, you have to call the superclass constructor method inside the constructor of the Enemy class. Add the code below, in the next line after the Enemy constructor\n",
        "\n"
      ]
    },
    {
      "cell_type": "code",
      "execution_count": null,
      "metadata": {
        "id": "Aa7V9T8vhjlO"
      },
      "outputs": [],
      "source": [
        "class Enemy(Character):\n",
        "  def __init__(self, char_name, char_description):\n",
        "    super().__init__(char_name, char_description)\n"
      ]
    },
    {
      "cell_type": "markdown",
      "metadata": {
        "id": "6jGNZqhohjCg"
      },
      "source": [
        "This line of code means ‘To make an Enemy, first make a Character object and then I will customise it.’\n",
        "\n",
        "When the __init__() function is created in a subclass, the subclass will no longer inherit the superclass’s __init__() function."
      ]
    },
    {
      "cell_type": "markdown",
      "metadata": {
        "id": "mAlzR0LThMPn"
      },
      "source": [
        "The super() function allows you to call functions in the superclass. Calling super().__init__() from the Enemy class will call the constructor of the Character superclass. The Character constructor sets up the attributes for the class.\n",
        "\n",
        "Calling the previously built methods with super() saves you from needing to rewrite those methods in your subclass.\n",
        "\n",
        "Save this code. Next, you will prove that, with the help of these two lines of code, the Enemy class has inherited all of the properties of the Character class\n",
        "\n",
        "STEP 3: Go to your character_test.py program and change it so that all references to the Character class become references to the Enemy class:"
      ]
    },
    {
      "cell_type": "markdown",
      "metadata": {
        "id": "iUbnVbi3h7nw"
      },
      "source": [
        "from character import Enemy\n",
        "dave = Enemy(\"Dave\", \"A smelly zombie\")\n"
      ]
    },
    {
      "cell_type": "markdown",
      "metadata": {
        "id": "_pT0hFkIh83O"
      },
      "source": [
        "Run the code and test it. You should be able to see the description of Dave and talk to him, just as you did before.\n",
        "\n",
        "In the next step, you will modify the Enemy class so that it behaves differently to the Character class. This concept is called polymorphism.\n",
        "\n",
        "At the moment, your Enemy class is functionally identical to the Character class, so it is a bit pointless. That’s why you will start to add new functionality to customise it."
      ]
    },
    {
      "cell_type": "markdown",
      "metadata": {
        "id": "CSEh-2aOiFeh"
      },
      "source": [
        "\n",
        "Add a new attribute to specify the weakness of the enemy character, so that you can defeat the character in-game. An object of the class Character doesn’t have an attribute called weakness; this is a customisation you are adding to the Enemy class.\n",
        "\n",
        "Each enemy will be vulnerable to an item that can be found in the game. For example, you could make an enemy character called Superman, who would be vulnerable to kryptonite.\n",
        "\n",
        "Eventually you will use the Item class you wrote earlier to add items to the game, but for now you can just represent an item as a string.\n",
        "\n",
        "STEP 4: Add a new attribute to specify the weakness of the enemy character.\n",
        "Set the value of the weakness attribute to be initialised as None.\n"
      ]
    },
    {
      "cell_type": "code",
      "execution_count": null,
      "metadata": {
        "id": "LQDr7OOXiSkJ"
      },
      "outputs": [],
      "source": [
        "class Enemy(Character):\n",
        "   def __init__(self, char_name, char_description):\n",
        "      super().__init__(char_name, char_description)\n",
        "      self.weakness = None"
      ]
    },
    {
      "cell_type": "markdown",
      "metadata": {
        "id": "eZ760ciDiSFF"
      },
      "source": [
        "STEP 5: Add getter and setter methods to Enemy so that you can add a weakness for an enemy.\n",
        "\n",
        "\n"
      ]
    },
    {
      "cell_type": "code",
      "execution_count": null,
      "metadata": {
        "id": "oaf_Ar0TigZR"
      },
      "outputs": [],
      "source": [
        "def set_weakness(self, item_weakness):\n",
        "    self.weakness = item_weakness\n",
        "\n",
        "def get_weakness(self):\n",
        "    return self.weakness"
      ]
    },
    {
      "cell_type": "markdown",
      "metadata": {
        "id": "Y077-tCIieeD"
      },
      "source": [
        "The Character class has a method called fight(). As you don’t want to fight with non-hostile characters, it simply returns a message that the character ‘doesn’t want to fight with you’.\n",
        "\n",
        "STEP 6: Inside the Enemy class, you will now add a new implementation of the fight method to allow you to fight an enemy which will allow you to win or lose. This will override the implementation of fight() provided inside Character. Enter your method like this:\n",
        "\n"
      ]
    },
    {
      "cell_type": "code",
      "execution_count": 3,
      "metadata": {
        "id": "eaIfEtdxitEX"
      },
      "outputs": [],
      "source": [
        "def fight(self, combat_item):\n",
        "  if combat_item == self.weakness:\n",
        "    print(\"You fend \" + self.name + \" off with the \" + combat_item )\n",
        "    return True\n",
        "  else:\n",
        "       print(self.name + \" crushes you, puny adventurer\")\n",
        "       return False\n"
      ]
    },
    {
      "cell_type": "markdown",
      "metadata": {
        "id": "IEuu6K4GiLFs"
      },
      "source": [
        "The combat_item is the item the player is going to fight the enemy with. If it is the enemy’s weakness, the method should print out a message saying that the player won the fight, and return True. Otherwise, it will print out a message saying that the player lost the fight, and return False.\n"
      ]
    },
    {
      "cell_type": "code",
      "execution_count": null,
      "metadata": {
        "id": "RXSBIecTjBlN"
      },
      "outputs": [],
      "source": [
        "def fight(self, combat_item):\n",
        "        if combat_item == self.weakness:\n",
        "            print((f\"You fend {self.name}, off with the {combat_item}!!\"))\n",
        "            return True\n",
        "        else:\n",
        "            print(f\"{self.name} crushes you, filthy animal!\")\n",
        "            return False\n"
      ]
    },
    {
      "cell_type": "markdown",
      "metadata": {
        "id": "IcU8zwoAjTeA"
      },
      "source": [
        "STEP 7: In your character_test.py program, add a weakness for Dave by calling the setter method you just wrote:\n"
      ]
    },
    {
      "cell_type": "code",
      "execution_count": null,
      "metadata": {
        "id": "8gGCSYFvjTAq"
      },
      "outputs": [],
      "source": [
        "dave.set_weakness(\"cheese\")"
      ]
    },
    {
      "cell_type": "markdown",
      "metadata": {
        "id": "HJoowGLRjemT"
      },
      "source": [
        "Dave is vulnerable to cheese!\n",
        "\n",
        "\n",
        "STEP 8: Call the fight() method on Dave, choosing an object to fight with:"
      ]
    },
    {
      "cell_type": "code",
      "execution_count": null,
      "metadata": {
        "id": "b_9QcJ5JjPSL"
      },
      "outputs": [],
      "source": [
        "print(\"What will you fight with?\")\n",
        "fight_with = input()\n",
        "dave.fight(fight_with)"
      ]
    },
    {
      "cell_type": "markdown",
      "metadata": {
        "id": "3M4B7GhFj79p"
      },
      "source": [
        "Choose different things to fight with and see the results! See the next slide for what your code should look like so far in character_test.py. This will help if you have any errors.\n",
        "\n",
        "In this step, you have customised the Enemy class to behave differently to its superclass, Character.\n",
        "\n",
        "# What your code should look like so far:"
      ]
    },
    {
      "cell_type": "code",
      "execution_count": null,
      "metadata": {
        "id": "OLMy43UKj7jh"
      },
      "outputs": [],
      "source": [
        "from character import Enemy\n",
        "dave = Enemy(\"Dave\", \"A smelly zombie\")\n",
        "\n",
        "dave.describe()\n",
        "\n",
        "# Add some conversation for Dave when he is talked to\n",
        "dave.set_conversation(\"Hello there! I am going to join your OOP game very soon\")\n",
        "\n",
        "# Trigger a conversation with Dave\n",
        "dave.talk()\n",
        "\n",
        "# Set a weakness\n",
        "dave.set_weakness(\"cheese\")\n",
        "\n",
        "# Fight with dave\n",
        "print(\"What will you fight with?\")\n",
        "fight_with = input()\n",
        "dave.fight(fight_with)"
      ]
    },
    {
      "cell_type": "markdown",
      "metadata": {
        "id": "UAGwoZ3vkb7y"
      },
      "source": [
        "# Polymorphism\n",
        "\n",
        "\n",
        "Guided Reading: [Polymorphism in Python - AskPython](https://https://www.askpython.com/python/oops/polymorphism-in-python)\n",
        "\n",
        "\n",
        "In literal sense, Polymorphism means the ability to take various forms. In Python, Polymorphism allows us to define methods in the child class with the same name as defined in their parent class. As we know, a child class inherits all the methods from the parent class."
      ]
    },
    {
      "cell_type": "markdown",
      "metadata": {
        "id": "MMj6N0kFkuiL"
      },
      "source": [
        "# Add the enemy to your room!\n",
        "\n",
        "Now that you have written a class for creating an enemy, you are going to add Dave the zombie to your game. Open up the program from last week in which you began creating your game.\n",
        "\n",
        "STEP 9: Go back to your main.py and add the following code:\n"
      ]
    },
    {
      "cell_type": "code",
      "execution_count": null,
      "metadata": {
        "id": "wFFOtypckuFw"
      },
      "outputs": [],
      "source": [
        "from character import Enemy"
      ]
    },
    {
      "cell_type": "markdown",
      "metadata": {
        "id": "LepUvls6k4BH"
      },
      "source": [
        "Remember that character is the name of the Python file from which you are importing, and Enemy is the name of the class you are importing from it."
      ]
    },
    {
      "cell_type": "code",
      "execution_count": 5,
      "metadata": {
        "id": "icOdu4CSk6DJ"
      },
      "outputs": [],
      "source": [
        "kitchen.link_rooms(dinning_hall, \"south\")\n",
        "dinning_hall.link_rooms(kitchen, \"north\")\n",
        "dinning_hall.link_rooms(ballroom, \"west\")\n",
        "ballroom.link_rooms(dinning_hall, \"east\")"
      ]
    },
    {
      "cell_type": "markdown",
      "metadata": {
        "id": "gZXU6Q-dk-pQ"
      },
      "source": [
        "STEP 10: Go back to your main.py and add the following code :\n"
      ]
    },
    {
      "cell_type": "code",
      "execution_count": null,
      "metadata": {
        "id": "V9j74o7tk9cA"
      },
      "outputs": [],
      "source": [
        "#Add the 3 lines of code below the above code in main.py\n",
        "\n",
        "dave = Enemy(\"Dave\", \"A smelly zombie\")\n",
        "dave.set_conversation(\"Brrlgrh... rgrhl... brains...\")\n",
        "dave.set_weakness(\"cheese\")\n"
      ]
    },
    {
      "cell_type": "markdown",
      "metadata": {
        "id": "igOLKsJPlDtp"
      },
      "source": [
        "# Put Dave in a room!\n",
        "Next, situate Dave inside a room. To do this, you have to add a new parameter inside the Room class in room.py so that a room object knows when it has a character inside it. Edit your Room class constructor to add a new field.\n",
        "\n",
        "STEP 11: Add the code in room.py:"
      ]
    },
    {
      "cell_type": "code",
      "execution_count": 6,
      "metadata": {
        "id": "Wf9_x975lKyR"
      },
      "outputs": [],
      "source": [
        "class Room():\n",
        "    def __init__(self, room_name):\n",
        "        self.name = room_name\n",
        "        self.description = None\n",
        "        self.linked_rooms ={}\n",
        "        self.character = None"
      ]
    },
    {
      "cell_type": "markdown",
      "metadata": {
        "id": "3ZY_nVhilXT9"
      },
      "source": [
        "A room object now has a character attribute inside it, set to None. When set, the character attribute will store a Character object. This ability to store one object inside another is called aggregation. In practice a room may be empty, in which case this attribute will stay as None. The important thing is that a room now has the ability to contain a character.\n",
        "\n",
        "STEP 12: Add set_character and get_character setter and getter methods to the Room class to enable putting a character inside a room.\n",
        "\n"
      ]
    },
    {
      "cell_type": "code",
      "execution_count": null,
      "metadata": {
        "id": "AbhmZztkljpt"
      },
      "outputs": [],
      "source": [
        "def set_character(self, new_character):\n",
        "    self.character = new_character\n",
        "\n",
        "def get_character(self):\n",
        "    return self.character\n"
      ]
    },
    {
      "cell_type": "markdown",
      "metadata": {
        "id": "E4qfL_0tlrKK"
      },
      "source": [
        "STEP 13: Using the set_character method you just created, put Dave into a room by adding this code to main.py, immediately below the code where you created Dave:\n"
      ]
    },
    {
      "cell_type": "code",
      "execution_count": null,
      "metadata": {
        "id": "N5UEESZLlryg"
      },
      "outputs": [],
      "source": [
        "dinning_hall.set_character(dave)"
      ]
    },
    {
      "cell_type": "markdown",
      "metadata": {
        "id": "QQ5M76mIl1UG"
      },
      "source": [
        "# Check if there is a character in room\n",
        "When you enter a room, if a character is present, the game should let you know.\n",
        "In the main game loop, before you ask the user for a command, check whether there is an enemy in the room using your getter method.\n",
        "\n",
        "STEP 14: Add the following code. If there is an inhabitant in the room, use the describe method that was inherited by Enemy from the Character class to show who is there."
      ]
    },
    {
      "cell_type": "code",
      "execution_count": 1,
      "metadata": {
        "id": "9a5oIWj5l0-I"
      },
      "outputs": [
        {
          "name": "stdout",
          "output_type": "stream",
          "text": [
            "\n",
            "\n"
          ]
        },
        {
          "ename": "NameError",
          "evalue": "name 'current_room' is not defined",
          "output_type": "error",
          "traceback": [
            "\u001b[0;31m---------------------------------------------------------------------------\u001b[0m",
            "\u001b[0;31mNameError\u001b[0m                                 Traceback (most recent call last)",
            "Cell \u001b[0;32mIn[1], line 3\u001b[0m\n\u001b[1;32m      1\u001b[0m \u001b[38;5;28;01mwhile\u001b[39;00m \u001b[38;5;28;01mTrue\u001b[39;00m:\n\u001b[1;32m      2\u001b[0m    \u001b[38;5;28mprint\u001b[39m(\u001b[38;5;124m\"\u001b[39m\u001b[38;5;130;01m\\n\u001b[39;00m\u001b[38;5;124m\"\u001b[39m)\n\u001b[0;32m----> 3\u001b[0m    \u001b[43mcurrent_room\u001b[49m\u001b[38;5;241m.\u001b[39mget_details()\n\u001b[1;32m      4\u001b[0m    inhabitant \u001b[38;5;241m=\u001b[39m current_room\u001b[38;5;241m.\u001b[39mget_character()\n\u001b[1;32m      5\u001b[0m    \u001b[38;5;28;01mif\u001b[39;00m inhabitant \u001b[38;5;129;01mis\u001b[39;00m \u001b[38;5;129;01mnot\u001b[39;00m \u001b[38;5;28;01mNone\u001b[39;00m:\n",
            "\u001b[0;31mNameError\u001b[0m: name 'current_room' is not defined"
          ]
        }
      ],
      "source": [
        "while True:\n",
        "   print(\"\\n\")\n",
        "   current_room.get_details()\n",
        "   inhabitant = current_room.get_character()\n",
        "   if inhabitant is not None:\n",
        "      inhabitant.describe()\n",
        "\n",
        "   command = input(\"> \")\n",
        "   current_room = current_room.move(command)\n"
      ]
    },
    {
      "cell_type": "markdown",
      "metadata": {
        "id": "Rc6EXRacmIQZ"
      },
      "source": [
        "STEP 15: Save and run your program. Move from the kitchen to the dining hall and you should see the description of Dave the zombie appear.\n"
      ]
    },
    {
      "cell_type": "markdown",
      "metadata": {
        "id": "Ck4LhB5hn_uZ"
      },
      "source": [
        "# Challenges (Optional)\n",
        "\n",
        "See document on moodle: interacting_with_your_game_optional_challenges.doc\n"
      ]
    },
    {
      "cell_type": "markdown",
      "metadata": {
        "id": "gNgWWJTmokD2"
      },
      "source": [
        "# Abstraction\n",
        "\n",
        "\n",
        "In Object Oriented Programming, Inheritance, Polymorphism and Encapsulation go hand in hand. But Abstraction is also an essential element of OOP.\n",
        "\n",
        "For example, people do not think of a car as a set of thousands of individual parts. Instead they see it as a well-defined object with its own unique behavior. This abstraction allows people to use a car to drive without knowing the complexity of the parts that form the car. They can ignore the details of how the engine transmission, and braking systems work. Instead, they are free to utilize the object as a whole..\n",
        "\n",
        "Python has a module called abc (abstract base class) that offers the necessary tools for crafting an abstract base class. Now that you have some understanding of OOP it’s a good idea to start reading up on it. [Reading](https://\n",
        "https://www.askpython.com/python/oops/abstraction-in-python\n",
        ")"
      ]
    },
    {
      "cell_type": "markdown",
      "metadata": {
        "id": "Z7upVqheo8Es"
      },
      "source": [
        "# Recap\n",
        "\n",
        "* To be able to implement OOP concepts in to a text based adventure game\n",
        "* Understanding Polymorphism\n",
        "* Hands-on"
      ]
    }
  ],
  "metadata": {
    "colab": {
      "private_outputs": true,
      "provenance": []
    },
    "kernelspec": {
      "display_name": "Python 3",
      "name": "python3"
    },
    "language_info": {
      "codemirror_mode": {
        "name": "ipython",
        "version": 3
      },
      "file_extension": ".py",
      "mimetype": "text/x-python",
      "name": "python",
      "nbconvert_exporter": "python",
      "pygments_lexer": "ipython3",
      "version": "3.12.6"
    }
  },
  "nbformat": 4,
  "nbformat_minor": 0
}
